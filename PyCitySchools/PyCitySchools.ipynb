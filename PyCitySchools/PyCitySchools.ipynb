{
 "cells": [
  {
   "cell_type": "code",
   "execution_count": 53,
   "id": "54d78b50-ff1e-440a-91a9-3c0a6c378466",
   "metadata": {},
   "outputs": [
    {
     "data": {
      "text/html": [
       "<div>\n",
       "<style scoped>\n",
       "    .dataframe tbody tr th:only-of-type {\n",
       "        vertical-align: middle;\n",
       "    }\n",
       "\n",
       "    .dataframe tbody tr th {\n",
       "        vertical-align: top;\n",
       "    }\n",
       "\n",
       "    .dataframe thead th {\n",
       "        text-align: right;\n",
       "    }\n",
       "</style>\n",
       "<table border=\"1\" class=\"dataframe\">\n",
       "  <thead>\n",
       "    <tr style=\"text-align: right;\">\n",
       "      <th></th>\n",
       "      <th>Student ID</th>\n",
       "      <th>student_name</th>\n",
       "      <th>gender</th>\n",
       "      <th>grade</th>\n",
       "      <th>school_name</th>\n",
       "      <th>reading_score</th>\n",
       "      <th>math_score</th>\n",
       "      <th>School ID</th>\n",
       "      <th>type</th>\n",
       "      <th>size</th>\n",
       "      <th>budget</th>\n",
       "    </tr>\n",
       "  </thead>\n",
       "  <tbody>\n",
       "    <tr>\n",
       "      <th>0</th>\n",
       "      <td>0</td>\n",
       "      <td>Paul Bradley</td>\n",
       "      <td>M</td>\n",
       "      <td>9th</td>\n",
       "      <td>Huang High School</td>\n",
       "      <td>66</td>\n",
       "      <td>79</td>\n",
       "      <td>0</td>\n",
       "      <td>District</td>\n",
       "      <td>2917</td>\n",
       "      <td>1910635</td>\n",
       "    </tr>\n",
       "    <tr>\n",
       "      <th>1</th>\n",
       "      <td>1</td>\n",
       "      <td>Victor Smith</td>\n",
       "      <td>M</td>\n",
       "      <td>12th</td>\n",
       "      <td>Huang High School</td>\n",
       "      <td>94</td>\n",
       "      <td>61</td>\n",
       "      <td>0</td>\n",
       "      <td>District</td>\n",
       "      <td>2917</td>\n",
       "      <td>1910635</td>\n",
       "    </tr>\n",
       "    <tr>\n",
       "      <th>2</th>\n",
       "      <td>2</td>\n",
       "      <td>Kevin Rodriguez</td>\n",
       "      <td>M</td>\n",
       "      <td>12th</td>\n",
       "      <td>Huang High School</td>\n",
       "      <td>90</td>\n",
       "      <td>60</td>\n",
       "      <td>0</td>\n",
       "      <td>District</td>\n",
       "      <td>2917</td>\n",
       "      <td>1910635</td>\n",
       "    </tr>\n",
       "    <tr>\n",
       "      <th>3</th>\n",
       "      <td>3</td>\n",
       "      <td>Dr. Richard Scott</td>\n",
       "      <td>M</td>\n",
       "      <td>12th</td>\n",
       "      <td>Huang High School</td>\n",
       "      <td>67</td>\n",
       "      <td>58</td>\n",
       "      <td>0</td>\n",
       "      <td>District</td>\n",
       "      <td>2917</td>\n",
       "      <td>1910635</td>\n",
       "    </tr>\n",
       "    <tr>\n",
       "      <th>4</th>\n",
       "      <td>4</td>\n",
       "      <td>Bonnie Ray</td>\n",
       "      <td>F</td>\n",
       "      <td>9th</td>\n",
       "      <td>Huang High School</td>\n",
       "      <td>97</td>\n",
       "      <td>84</td>\n",
       "      <td>0</td>\n",
       "      <td>District</td>\n",
       "      <td>2917</td>\n",
       "      <td>1910635</td>\n",
       "    </tr>\n",
       "  </tbody>\n",
       "</table>\n",
       "</div>"
      ],
      "text/plain": [
       "   Student ID       student_name gender grade        school_name  \\\n",
       "0           0       Paul Bradley      M   9th  Huang High School   \n",
       "1           1       Victor Smith      M  12th  Huang High School   \n",
       "2           2    Kevin Rodriguez      M  12th  Huang High School   \n",
       "3           3  Dr. Richard Scott      M  12th  Huang High School   \n",
       "4           4         Bonnie Ray      F   9th  Huang High School   \n",
       "\n",
       "   reading_score  math_score  School ID      type  size   budget  \n",
       "0             66          79          0  District  2917  1910635  \n",
       "1             94          61          0  District  2917  1910635  \n",
       "2             90          60          0  District  2917  1910635  \n",
       "3             67          58          0  District  2917  1910635  \n",
       "4             97          84          0  District  2917  1910635  "
      ]
     },
     "execution_count": 53,
     "metadata": {},
     "output_type": "execute_result"
    }
   ],
   "source": [
    "import pandas as pd\n",
    "from pathlib import Path\n",
    "\n",
    "\n",
    "# read and import csv files as data frames\n",
    "csvfile1 = Path(\"Resources/schools_complete.csv\")\n",
    "csvfile2 = Path(\"Resources/students_complete.csv\")\n",
    "\n",
    "school_df = pd.read_csv(csvfile1)\n",
    "student_df = pd.read_csv(csvfile2)\n",
    "\n",
    "#merge dataframes together\n",
    "school_data_df = pd.merge(student_df, school_df, how=\"left\", on=[\"school_name\", \"school_name\"])\n",
    "school_data_df.head()\n"
   ]
  },
  {
   "cell_type": "code",
   "execution_count": 50,
   "id": "36c19b13-18f7-4d97-bd29-ee67ec6e2123",
   "metadata": {},
   "outputs": [
    {
     "name": "stdout",
     "output_type": "stream",
     "text": [
      "There are 15 unique schools in this data set.\n"
     ]
    }
   ],
   "source": [
    "#find total number of unique schools\n",
    "\n",
    "total_schools = school_data_df[\"school_name\"].nunique()\n",
    "print(f\"There are {total_schools} unique schools in this data set.\")"
   ]
  },
  {
   "cell_type": "code",
   "execution_count": 51,
   "id": "4af7394c-67cf-46da-8d8a-4a80f8923321",
   "metadata": {},
   "outputs": [
    {
     "name": "stdout",
     "output_type": "stream",
     "text": [
      "There are 39170 students in this data set.\n"
     ]
    }
   ],
   "source": [
    "# find total number of students\n",
    "total_students = school_data_df[\"student_name\"].count()\n",
    "print(f\"There are {total_students} students in this data set.\")"
   ]
  },
  {
   "cell_type": "code",
   "execution_count": 52,
   "id": "7dd63c9f-987a-4fbb-aaa3-45af205e8f57",
   "metadata": {},
   "outputs": [
    {
     "name": "stdout",
     "output_type": "stream",
     "text": [
      " The total budget of all the schools is $24649428\n"
     ]
    }
   ],
   "source": [
    "#find total budget\n",
    "unique_budget = school_data_df[\"budget\"].unique()\n",
    "total_budget = unique_budget.sum()\n",
    "print(f\" The total budget of all the schools is ${total_budget}\")"
   ]
  },
  {
   "cell_type": "code",
   "execution_count": 30,
   "id": "6569b071-f0c9-43d6-bb34-408c6001a566",
   "metadata": {},
   "outputs": [
    {
     "name": "stdout",
     "output_type": "stream",
     "text": [
      "The average math score for all of the student is 78.98537145774827\n"
     ]
    }
   ],
   "source": [
    "#find average math score\n",
    "avg_math = school_data_df[\"math_score\"].mean()\n",
    "print(f\"The average math score for all of the student is {avg_math}\")"
   ]
  },
  {
   "cell_type": "code",
   "execution_count": 31,
   "id": "d0cbb22d-b702-4f0a-9fa7-b031ed59e0bc",
   "metadata": {},
   "outputs": [
    {
     "name": "stdout",
     "output_type": "stream",
     "text": [
      "The average reading score for all of the student is 81.87784018381414\n"
     ]
    }
   ],
   "source": [
    "# find average reading score\n",
    "avg_reading = school_data_df[\"reading_score\"].mean()\n",
    "print(f\"The average reading score for all of the student is {avg_reading}\")"
   ]
  },
  {
   "cell_type": "code",
   "execution_count": 47,
   "id": "c0d240ec-e278-48f6-85da-e3410a593030",
   "metadata": {},
   "outputs": [
    {
     "name": "stdout",
     "output_type": "stream",
     "text": [
      "The percent of students that passed math with a score of 70 or higher is %74.9808526933878\n"
     ]
    }
   ],
   "source": [
    "# find percent of students passing math (greather than or equal to 70)\n",
    "math_pass = school_data_df.loc[school_data_df[\"math_score\"] >= 70]\n",
    "math_pass_count = math_pass[\"math_score\"].count()\n",
    "math_percentage = (math_pass_count/float(total_students) *100)\n",
    "print(f\"The percent of students that passed math with a score of 70 or higher is %{math_percentage}\")\n"
   ]
  },
  {
   "cell_type": "code",
   "execution_count": 55,
   "id": "55f2385e-bd37-4b29-8e26-dcc96db91814",
   "metadata": {},
   "outputs": [
    {
     "name": "stdout",
     "output_type": "stream",
     "text": [
      "The percent of students that passed math with a score of 70 or higher is %85.80546336482001\n"
     ]
    }
   ],
   "source": [
    "# find percent of students passing readingg (greather than or equal to 70)\n",
    "reading_pass = school_data_df.loc[school_data_df[\"reading_score\"] >= 70]\n",
    "reading_pass_count = reading_pass[\"reading_score\"].count()\n",
    "reading_percentage = (reading_pass_count/float(total_students) *100)\n",
    "print(f\"The percent of students that passed math with a score of 70 or higher is %{reading_percentage}\")"
   ]
  },
  {
   "cell_type": "code",
   "execution_count": 56,
   "id": "b29ea349-e07f-42af-8bb7-5f04ddceb7e9",
   "metadata": {},
   "outputs": [
    {
     "name": "stdout",
     "output_type": "stream",
     "text": [
      "The percent of students that passed math and reading with a score of 70 or higher is %65.17232575950983\n"
     ]
    }
   ],
   "source": [
    "# find percent of students passing math and reading\n",
    "overall_pass = school_data_df.loc[(school_data_df[\"math_score\"] >= 70) & (school_data_df[\"reading_score\"] >=70)]\n",
    "overall_pass_count = overall_pass[\"student_name\"].count()\n",
    "overall_percentage = (overall_pass_count/float(total_students) *100)\n",
    "print(f\"The percent of students that passed math and reading with a score of 70 or higher is %{overall_percentage}\")"
   ]
  },
  {
   "cell_type": "code",
   "execution_count": 66,
   "id": "e7f47479-f012-4c41-94b4-0a6fadb96965",
   "metadata": {},
   "outputs": [
    {
     "data": {
      "text/html": [
       "<div>\n",
       "<style scoped>\n",
       "    .dataframe tbody tr th:only-of-type {\n",
       "        vertical-align: middle;\n",
       "    }\n",
       "\n",
       "    .dataframe tbody tr th {\n",
       "        vertical-align: top;\n",
       "    }\n",
       "\n",
       "    .dataframe thead th {\n",
       "        text-align: right;\n",
       "    }\n",
       "</style>\n",
       "<table border=\"1\" class=\"dataframe\">\n",
       "  <thead>\n",
       "    <tr style=\"text-align: right;\">\n",
       "      <th></th>\n",
       "      <th>Total Schools</th>\n",
       "      <th>Total Students</th>\n",
       "      <th>Total Budget</th>\n",
       "      <th>Average Math Score</th>\n",
       "      <th>Average Reading Score</th>\n",
       "      <th>% Passing Math</th>\n",
       "      <th>% Passing Reading</th>\n",
       "      <th>% Overall Passing</th>\n",
       "    </tr>\n",
       "  </thead>\n",
       "  <tbody>\n",
       "    <tr>\n",
       "      <th>0</th>\n",
       "      <td>15</td>\n",
       "      <td>39,170</td>\n",
       "      <td>$24,649,428.00</td>\n",
       "      <td>78.985371</td>\n",
       "      <td>81.87784</td>\n",
       "      <td>74.980853</td>\n",
       "      <td>85.805463</td>\n",
       "      <td>65.172326</td>\n",
       "    </tr>\n",
       "  </tbody>\n",
       "</table>\n",
       "</div>"
      ],
      "text/plain": [
       "   Total Schools Total Students    Total Budget  Average Math Score  \\\n",
       "0             15         39,170  $24,649,428.00           78.985371   \n",
       "\n",
       "   Average Reading Score  % Passing Math  % Passing Reading  % Overall Passing  \n",
       "0               81.87784       74.980853          85.805463          65.172326  "
      ]
     },
     "execution_count": 66,
     "metadata": {},
     "output_type": "execute_result"
    }
   ],
   "source": [
    "#create a Dataframe from school district findings\n",
    "district_data = {\"Total Schools\": total_schools, \"Total Students\": total_students, \"Total Budget\": total_budget, \n",
    "                 \"Average Math Score\": avg_math, \"Average Reading Score\": avg_reading,\"% Passing Math\": math_percentage,\n",
    "                 \"% Passing Reading\": reading_percentage,\"% Overall Passing\": overall_percentage}\n",
    "district_summary = pd.DataFrame(district_data, index = [0])\n",
    "\n",
    "#format data frame\n",
    "district_summary[\"Total Students\"] = district_summary[\"Total Students\"].map(\"{:,}\".format)\n",
    "district_summary[\"Total Budget\"] = district_summary[\"Total Budget\"].map(\"${:,.2f}\".format)\n",
    "\n",
    "district_summary\n"
   ]
  },
  {
   "cell_type": "code",
   "execution_count": null,
   "id": "a22ccb27-e246-44d7-a5c7-6fc1e2d7aff6",
   "metadata": {},
   "outputs": [],
   "source": []
  }
 ],
 "metadata": {
  "kernelspec": {
   "display_name": "Python 3 (ipykernel)",
   "language": "python",
   "name": "python3"
  },
  "language_info": {
   "codemirror_mode": {
    "name": "ipython",
    "version": 3
   },
   "file_extension": ".py",
   "mimetype": "text/x-python",
   "name": "python",
   "nbconvert_exporter": "python",
   "pygments_lexer": "ipython3",
   "version": "3.10.13"
  }
 },
 "nbformat": 4,
 "nbformat_minor": 5
}
